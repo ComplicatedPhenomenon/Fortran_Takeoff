{
 "cells": [
  {
   "cell_type": "code",
   "execution_count": null,
   "metadata": {
    "collapsed": true
   },
   "outputs": [],
   "source": [
    "import time "
   ]
  },
  {
   "cell_type": "code",
   "execution_count": null,
   "metadata": {},
   "outputs": [],
   "source": [
    "print(time.ctime())"
   ]
  },
  {
   "cell_type": "markdown",
   "metadata": {},
   "source": [
    "This notebook is about manipulating the data of the final result"
   ]
  },
  {
   "cell_type": "code",
   "execution_count": null,
   "metadata": {
    "collapsed": true
   },
   "outputs": [],
   "source": [
    "%matplotlib inline"
   ]
  },
  {
   "cell_type": "code",
   "execution_count": null,
   "metadata": {
    "collapsed": true
   },
   "outputs": [],
   "source": [
    "from __future__ import print_function\n",
    "\n",
    "# Import conventions we'll be using here. See Part 1\n",
    "import matplotlib\n",
    "import matplotlib.pyplot as plt\n",
    "import numpy as np\n",
    "import pandas as pd"
   ]
  },
  {
   "cell_type": "markdown",
   "metadata": {},
   "source": [
    "### Plot some datasets\n",
    "* Plot them individualy\n",
    "* Plot in one graph\n",
    "  * Scale is different then we use log to lower the huge difference.\n",
    "  "
   ]
  },
  {
   "cell_type": "code",
   "execution_count": null,
   "metadata": {},
   "outputs": [],
   "source": [
    "datafile = open('../result/DATAgg_d4.txt','r')\n",
    "data =  datafile.readlines() \n",
    "datafile.close()\n",
    "a = []\n",
    "b = []\n",
    "for row in data:\n",
    "    this_data = row.split()\n",
    "    a.append(float(this_data[0]))\n",
    "    b.append(float(this_data[1]))\n",
    "a = np.array(a)\n",
    "b = np.array(b)\n",
    "fig,ax = plt.subplots()\n",
    "ax.plot(a[:100],b[:100]*10**3,label='.') # turn pb into fb\n",
    "ax.set( xlabel='m', ylabel='fb')\n",
    "plt.show()"
   ]
  },
  {
   "cell_type": "code",
   "execution_count": null,
   "metadata": {},
   "outputs": [],
   "source": [
    "datafile = open('../result/DATAgg_d4.txt','r')\n",
    "data =  datafile.readlines()\n",
    "datafile.close()\n",
    "\n",
    "s = []\n",
    "cs = []\n",
    "for row in data:\n",
    "    this_data = row.split()\n",
    "    s.append(float(this_data[0]))\n",
    "    cs.append(float(this_data[1]))\n",
    "\n",
    "\n",
    "S = np.array(s)\n",
    "CS = np.array(cs)\n",
    "\n",
    "plt.plot(S,CS*10**3,'.g')\n",
    "plt.xlabel(\"$M_D (MeV)$ \")\n",
    "plt.ylabel(\"$\\sigma$ (fb)\")\n",
    "plt.title('Cross section with respect to S with  $\\delta = 4 $')\n",
    "plt.show()          "
   ]
  },
  {
   "cell_type": "code",
   "execution_count": null,
   "metadata": {},
   "outputs": [],
   "source": [
    "datafile = open('../result/diffDATAqq_d4.txt','r')\n",
    "data =  datafile.readlines()\n",
    "datafile.close()\n",
    "\n",
    "s = []\n",
    "cs = []\n",
    "for row in data:\n",
    "    this_data = row.split()\n",
    "    s.append(float(this_data[0]))\n",
    "    cs.append(float(this_data[1]))\n",
    "\n",
    "\n",
    "S = np.array(s)\n",
    "CS = np.array(cs)\n",
    "\n",
    "plt.plot(S,CS,'.g')\n",
    "plt.xlabel(\"$M_D (MeV)$ \")\n",
    "plt.ylabel(\"$\\sigma$ (fb)\")\n",
    "plt.title('Differential cross section  with respect to $cos\\theta$ with  $\\delta = 4 $')\n",
    "plt.show()          "
   ]
  },
  {
   "cell_type": "code",
   "execution_count": null,
   "metadata": {},
   "outputs": [],
   "source": [
    "datafile = open('../result/DATAqq_d4.txt','r')\n",
    "data =  datafile.readlines()\n",
    "datafile.close()\n",
    "\n",
    "s = []\n",
    "cs = []\n",
    "for row in data:\n",
    "    this_data = row.split()\n",
    "    s.append(float(this_data[0]))\n",
    "    cs.append(float(this_data[1]))\n",
    "\n",
    "\n",
    "S = np.array(s)\n",
    "CS = np.array(cs)\n",
    "\n",
    "plt.plot(S,CS*10**3,'.g')\n",
    "plt.xlabel(\"$M_D (MeV)$ \")\n",
    "plt.ylabel(\"$\\sigma$ (fb)\")\n",
    "plt.title('Cross section  with respect to $M_D$ with  $\\delta = 4 $')\n",
    "plt.show()          "
   ]
  },
  {
   "cell_type": "markdown",
   "metadata": {},
   "source": [
    "The data structure of `DATAgg*.txt` is a bit clear for me now. "
   ]
  }
 ],
 "metadata": {
  "kernelspec": {
   "display_name": "Python 3",
   "language": "python",
   "name": "python3"
  },
  "language_info": {
   "codemirror_mode": {
    "name": "ipython",
    "version": 3
   },
   "file_extension": ".py",
   "mimetype": "text/x-python",
   "name": "python",
   "nbconvert_exporter": "python",
   "pygments_lexer": "ipython3",
   "version": "3.6.3"
  },
  "latex_envs": {
   "LaTeX_envs_menu_present": true,
   "autocomplete": true,
   "bibliofile": "biblio.bib",
   "cite_by": "apalike",
   "current_citInitial": 1,
   "eqLabelWithNumbers": true,
   "eqNumInitial": 1,
   "hotkeys": {
    "equation": "Ctrl-E",
    "itemize": "Ctrl-I"
   },
   "labels_anchors": false,
   "latex_user_defs": false,
   "report_style_numbering": false,
   "user_envs_cfg": false
  }
 },
 "nbformat": 4,
 "nbformat_minor": 2
}
